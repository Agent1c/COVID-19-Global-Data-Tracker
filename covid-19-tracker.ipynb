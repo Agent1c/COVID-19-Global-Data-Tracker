{
 "cells": [
  {
   "cell_type": "markdown",
   "id": "32f78a88",
   "metadata": {},
   "source": [
    "# COVID-19 Global Data Tracker Project\n",
    "\n",
    "This notebook analyzes global COVID-19 data using the dataset `Covid Data.csv`. We will load, clean, and explore the data, focusing on key countries and metrics such as cases, deaths, and vaccinations."
   ]
  },
  {
   "cell_type": "markdown",
   "id": "29cf123c",
   "metadata": {},
   "source": [
    "## 1. Data Loading & Exploration\n",
    "\n",
    "In this section, we will load the dataset, inspect its structure, and identify missing values."
   ]
  },
  {
   "cell_type": "code",
   "execution_count": null,
   "id": "0b9bfe69",
   "metadata": {},
   "outputs": [],
   "source": [
    "# Import necessary libraries\n",
    "import pandas as pd\n",
    "import numpy as np"
   ]
  },
  {
   "cell_type": "code",
   "execution_count": 1,
   "id": "f6ef3481",
   "metadata": {},
   "outputs": [
    {
     "ename": "NameError",
     "evalue": "name 'pd' is not defined",
     "output_type": "error",
     "traceback": [
      "\u001b[0;31m---------------------------------------------------------------------------\u001b[0m",
      "\u001b[0;31mNameError\u001b[0m                                 Traceback (most recent call last)",
      "Cell \u001b[0;32mIn[1], line 2\u001b[0m\n\u001b[1;32m      1\u001b[0m \u001b[38;5;66;03m# Load the dataset\u001b[39;00m\n\u001b[0;32m----> 2\u001b[0m df \u001b[38;5;241m=\u001b[39m \u001b[43mpd\u001b[49m\u001b[38;5;241m.\u001b[39mread_csv(\u001b[38;5;124m'\u001b[39m\u001b[38;5;124mCovid Data.csv\u001b[39m\u001b[38;5;124m'\u001b[39m)\n",
      "\u001b[0;31mNameError\u001b[0m: name 'pd' is not defined"
     ]
    }
   ],
   "source": [
    "# Load the dataset\n",
    "df = pd.read_csv('Covid Data.csv')"
   ]
  },
  {
   "cell_type": "code",
   "execution_count": null,
   "id": "9506738a",
   "metadata": {},
   "outputs": [],
   "source": [
    "# Display the columns in the dataset\n",
    "df.columns"
   ]
  },
  {
   "cell_type": "code",
   "execution_count": null,
   "id": "12e9bb48",
   "metadata": {},
   "outputs": [],
   "source": [
    "# Preview the first five rows\n",
    "df.head()"
   ]
  },
  {
   "cell_type": "code",
   "execution_count": null,
   "id": "29c110f6",
   "metadata": {},
   "outputs": [],
   "source": [
    "# Identify missing values in each column\n",
    "df.isnull().sum()"
   ]
  },
  {
   "cell_type": "markdown",
   "id": "0bfa865a",
   "metadata": {},
   "source": [
    "## 2. Data Cleaning\n",
    "\n",
    "We will filter for countries of interest (Kenya, USA, India), handle missing values, and ensure correct data types."
   ]
  },
  {
   "cell_type": "code",
   "execution_count": 2,
   "id": "d708f8b1",
   "metadata": {},
   "outputs": [
    {
     "ename": "NameError",
     "evalue": "name 'df' is not defined",
     "output_type": "error",
     "traceback": [
      "\u001b[0;31m---------------------------------------------------------------------------\u001b[0m",
      "\u001b[0;31mNameError\u001b[0m                                 Traceback (most recent call last)",
      "Cell \u001b[0;32mIn[2], line 3\u001b[0m\n\u001b[1;32m      1\u001b[0m \u001b[38;5;66;03m# Filter for selected countries\u001b[39;00m\n\u001b[1;32m      2\u001b[0m countries_of_interest \u001b[38;5;241m=\u001b[39m [\u001b[38;5;124m'\u001b[39m\u001b[38;5;124mKenya\u001b[39m\u001b[38;5;124m'\u001b[39m, \u001b[38;5;124m'\u001b[39m\u001b[38;5;124mUnited States\u001b[39m\u001b[38;5;124m'\u001b[39m, \u001b[38;5;124m'\u001b[39m\u001b[38;5;124mIndia\u001b[39m\u001b[38;5;124m'\u001b[39m]\n\u001b[0;32m----> 3\u001b[0m df_filtered \u001b[38;5;241m=\u001b[39m \u001b[43mdf\u001b[49m[df[\u001b[38;5;124m'\u001b[39m\u001b[38;5;124mlocation\u001b[39m\u001b[38;5;124m'\u001b[39m]\u001b[38;5;241m.\u001b[39misin(countries_of_interest)]\u001b[38;5;241m.\u001b[39mcopy()\n",
      "\u001b[0;31mNameError\u001b[0m: name 'df' is not defined"
     ]
    }
   ],
   "source": [
    "# Filter for selected countries\n",
    "countries_of_interest = ['Kenya', 'United States', 'India']\n",
    "df_filtered = df[df['location'].isin(countries_of_interest)].copy()"
   ]
  },
  {
   "cell_type": "code",
   "execution_count": null,
   "id": "2d2caf19",
   "metadata": {},
   "outputs": [],
   "source": [
    "# Drop rows with missing dates or critical values (e.g., total_cases, total_deaths)\n",
    "critical_columns = ['date', 'total_cases', 'total_deaths']\n",
    "df_filtered = df_filtered.dropna(subset=critical_columns)"
   ]
  },
  {
   "cell_type": "code",
   "execution_count": null,
   "id": "bb754a2c",
   "metadata": {},
   "outputs": [],
   "source": [
    "# Convert 'date' column to datetime\n",
    "df_filtered['date'] = pd.to_datetime(df_filtered['date'])"
   ]
  },
  {
   "cell_type": "code",
   "execution_count": null,
   "id": "11db50d6",
   "metadata": {},
   "outputs": [],
   "source": [
    "# Handle missing numeric values: fill with interpolation\n",
    "numeric_cols = ['total_cases', 'total_deaths', 'new_cases', 'new_deaths', 'total_vaccinations']\n",
    "for col in numeric_cols:\n",
    "    if col in df_filtered.columns:\n",
    "        df_filtered[col] = df_filtered[col].interpolate()"
   ]
  },
  {
   "cell_type": "code",
   "execution_count": null,
   "id": "c452edd0",
   "metadata": {},
   "outputs": [],
   "source": [
    "# Check for remaining missing values\n",
    "df_filtered.isnull().sum()"
   ]
  },
  {
   "cell_type": "markdown",
   "id": "911b9982",
   "metadata": {},
   "source": [
    "## 3. Exploratory Data Analysis (EDA)\n",
    "\n",
    "Let's explore trends in cases and deaths, compare countries, and calculate the death rate."
   ]
  },
  {
   "cell_type": "code",
   "execution_count": null,
   "id": "6db9cb5e",
   "metadata": {},
   "outputs": [],
   "source": [
    "\n",
    "\n",
    "import matplotlib.pyplot as plt\n",
    "import seaborn as sns\n",
    "\n",
    "# Set plot style\n",
    "sns.set(style=\"whitegrid\")"
   ]
  },
  {
   "cell_type": "code",
   "execution_count": null,
   "id": "6f56ba12",
   "metadata": {},
   "outputs": [],
   "source": [
    "# Plot total cases over time for each country\n",
    "plt.figure(figsize=(12,6))\n",
    "for country in countries_of_interest:\n",
    "    country_data = df_filtered[df_filtered['location'] == country]\n",
    "    plt.plot(country_data['date'], country_data['total_cases'], label=country)\n",
    "plt.title('Total COVID-19 Cases Over Time')\n",
    "plt.xlabel('Date')\n",
    "plt.ylabel('Total Cases')\n",
    "plt.legend()\n",
    "plt.show()"
   ]
  },
  {
   "cell_type": "code",
   "execution_count": null,
   "id": "d0f46a69",
   "metadata": {},
   "outputs": [],
   "source": [
    "# Plot total deaths over time for each country\n",
    "plt.figure(figsize=(12,6))\n",
    "for country in countries_of_interest:\n",
    "    country_data = df_filtered[df_filtered['location'] == country]\n",
    "    plt.plot(country_data['date'], country_data['total_deaths'], label=country)\n",
    "plt.title('Total COVID-19 Deaths Over Time')\n",
    "plt.xlabel('Date')\n",
    "plt.ylabel('Total Deaths')\n",
    "plt.legend()\n",
    "plt.show()"
   ]
  },
  {
   "cell_type": "code",
   "execution_count": null,
   "id": "13bcc630",
   "metadata": {},
   "outputs": [],
   "source": [
    "# Compare daily new cases between countries\n",
    "plt.figure(figsize=(12,6))\n",
    "for country in countries_of_interest:\n",
    "    country_data = df_filtered[df_filtered['location'] == country]\n",
    "    plt.plot(country_data['date'], country_data['new_cases'], label=country)\n",
    "plt.title('Daily New COVID-19 Cases')\n",
    "plt.xlabel('Date')\n",
    "plt.ylabel('New Cases')\n",
    "plt.legend()\n",
    "plt.show()"
   ]
  },
  {
   "cell_type": "code",
   "execution_count": null,
   "id": "a53097ba",
   "metadata": {},
   "outputs": [],
   "source": [
    "# Calculate and plot death rate (total_deaths / total_cases)\n",
    "plt.figure(figsize=(12,6))\n",
    "for country in countries_of_interest:\n",
    "    country_data = df_filtered[df_filtered['location'] == country].copy()\n",
    "    country_data['death_rate'] = country_data['total_deaths'] / country_data['total_cases']\n",
    "    plt.plot(country_data['date'], country_data['death_rate'], label=country)\n",
    "plt.title('COVID-19 Death Rate Over Time')\n",
    "plt.xlabel('Date')\n",
    "plt.ylabel('Death Rate')\n",
    "plt.legend()\n",
    "plt.show()"
   ]
  },
  {
   "cell_type": "code",
   "execution_count": null,
   "id": "dd8d62af",
   "metadata": {},
   "outputs": [],
   "source": [
    "# Optional: Correlation heatmap for numeric columns\n",
    "plt.figure(figsize=(8,6))\n",
    "sns.heatmap(df_filtered[numeric_cols].corr(), annot=True, cmap='coolwarm')\n",
    "plt.title('Correlation Heatmap')\n",
    "plt.show()"
   ]
  },
  {
   "cell_type": "markdown",
   "id": "684aabd8",
   "metadata": {},
   "source": [
    "## 4. Visualizing Vaccination Progress\n",
    "\n",
    "Analyze and visualize vaccination rollouts for the selected countries."
   ]
  },
  {
   "cell_type": "code",
   "execution_count": null,
   "id": "8a294ed8",
   "metadata": {},
   "outputs": [],
   "source": [
    "# Plot cumulative vaccinations over time for each country\n",
    "plt.figure(figsize=(12,6))\n",
    "for country in countries_of_interest:\n",
    "    country_data = df_filtered[df_filtered['location'] == country]\n",
    "    if 'total_vaccinations' in country_data.columns:\n",
    "        plt.plot(country_data['date'], country_data['total_vaccinations'], label=country)\n",
    "plt.title('Cumulative COVID-19 Vaccinations Over Time')\n",
    "plt.xlabel('Date')\n",
    "plt.ylabel('Total Vaccinations')\n",
    "plt.legend()\n",
    "plt.show()"
   ]
  },
  {
   "cell_type": "code",
   "execution_count": null,
   "id": "92229930",
   "metadata": {},
   "outputs": [],
   "source": [
    "# Compare % vaccinated population (if population and total_vaccinations columns exist)\n",
    "if 'population' in df_filtered.columns and 'total_vaccinations' in df_filtered.columns:\n",
    "    latest = df_filtered.sort_values('date').groupby('location').tail(1)\n",
    "    latest['percent_vaccinated'] = (latest['total_vaccinations'] / latest['population']) * 100\n",
    "    plt.figure(figsize=(8,6))\n",
    "    sns.barplot(x='location', y='percent_vaccinated', data=latest)\n",
    "    plt.title('Percentage of Population Vaccinated (Latest Available Date)')\n",
    "    plt.ylabel('% Vaccinated')\n",
    "    plt.xlabel('Country')\n",
    "    plt.show()"
   ]
  },
  {
   "cell_type": "code",
   "execution_count": null,
   "id": "33552deb",
   "metadata": {},
   "outputs": [],
   "source": [
    "# Optional: Pie chart for vaccinated vs. unvaccinated (for one country, e.g., USA)\n",
    "country = 'United States'\n",
    "if 'population' in df_filtered.columns and 'total_vaccinations' in df_filtered.columns:\n",
    "    latest_usa = df_filtered[(df_filtered['location'] == country)].sort_values('date').tail(1)\n",
    "    if not latest_usa.empty:\n",
    "        vaccinated = latest_usa['total_vaccinations'].values[0]\n",
    "        population = latest_usa['population'].values[0]\n",
    "        unvaccinated = population - vaccinated\n",
    "        plt.figure(figsize=(6,6))\n",
    "        plt.pie([vaccinated, unvaccinated], labels=['Vaccinated', 'Unvaccinated'], autopct='%1.1f%%', colors=['#4CAF50', '#FFC107'])\n",
    "        plt.title(f'Vaccinated vs. Unvaccinated in {country}')\n",
    "        plt.show()"
   ]
  }
 ],
 "metadata": {
  "kernelspec": {
   "display_name": "Python 3 (ipykernel)",
   "language": "python",
   "name": "python3"
  },
  "language_info": {
   "codemirror_mode": {
    "name": "ipython",
    "version": 3
   },
   "file_extension": ".py",
   "mimetype": "text/x-python",
   "name": "python",
   "nbconvert_exporter": "python",
   "pygments_lexer": "ipython3",
   "version": "3.10.12"
  }
 },
 "nbformat": 4,
 "nbformat_minor": 5
}
